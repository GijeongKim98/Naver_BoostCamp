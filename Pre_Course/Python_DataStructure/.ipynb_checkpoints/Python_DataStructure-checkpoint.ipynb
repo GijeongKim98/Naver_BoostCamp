{
 "cells": [
  {
   "cell_type": "markdown",
   "id": "1bf7fcc3",
   "metadata": {},
   "source": [
    "# Stack"
   ]
  },
  {
   "cell_type": "code",
   "execution_count": 7,
   "id": "2ca68984",
   "metadata": {},
   "outputs": [
    {
     "data": {
      "text/plain": [
       "[1, 2, 3, 4, 5]"
      ]
     },
     "execution_count": 7,
     "metadata": {},
     "output_type": "execute_result"
    }
   ],
   "source": [
    "a = [1,2,3,4,5]\n",
    "a"
   ]
  },
  {
   "cell_type": "code",
   "execution_count": 8,
   "id": "a7b1622c",
   "metadata": {},
   "outputs": [
    {
     "data": {
      "text/plain": [
       "[1, 2, 3, 4, 5, 10]"
      ]
     },
     "execution_count": 8,
     "metadata": {},
     "output_type": "execute_result"
    }
   ],
   "source": [
    "a.append(10)\n",
    "a"
   ]
  },
  {
   "cell_type": "code",
   "execution_count": 9,
   "id": "25a2ba21",
   "metadata": {},
   "outputs": [
    {
     "data": {
      "text/plain": [
       "[1, 2, 3, 4, 5, 10, 20]"
      ]
     },
     "execution_count": 9,
     "metadata": {},
     "output_type": "execute_result"
    }
   ],
   "source": [
    "a.append(20)\n",
    "a"
   ]
  },
  {
   "cell_type": "code",
   "execution_count": 10,
   "id": "a5ccb220",
   "metadata": {},
   "outputs": [
    {
     "data": {
      "text/plain": [
       "[1, 2, 3, 4, 5, 10]"
      ]
     },
     "execution_count": 10,
     "metadata": {},
     "output_type": "execute_result"
    }
   ],
   "source": [
    "c = a.pop() # pop 함수는 return값이 존재하면서 a가 변함\n",
    "a"
   ]
  },
  {
   "cell_type": "code",
   "execution_count": 11,
   "id": "b052e331",
   "metadata": {},
   "outputs": [
    {
     "data": {
      "text/plain": [
       "20"
      ]
     },
     "execution_count": 11,
     "metadata": {},
     "output_type": "execute_result"
    }
   ],
   "source": [
    "c"
   ]
  },
  {
   "cell_type": "code",
   "execution_count": 12,
   "id": "6896b2aa",
   "metadata": {},
   "outputs": [],
   "source": [
    "d = a.pop()"
   ]
  },
  {
   "cell_type": "code",
   "execution_count": 13,
   "id": "9e855548",
   "metadata": {},
   "outputs": [
    {
     "data": {
      "text/plain": [
       "[1, 2, 3, 4, 5]"
      ]
     },
     "execution_count": 13,
     "metadata": {},
     "output_type": "execute_result"
    }
   ],
   "source": [
    "a"
   ]
  },
  {
   "cell_type": "code",
   "execution_count": 14,
   "id": "95352022",
   "metadata": {},
   "outputs": [
    {
     "data": {
      "text/plain": [
       "10"
      ]
     },
     "execution_count": 14,
     "metadata": {},
     "output_type": "execute_result"
    }
   ],
   "source": [
    "d"
   ]
  },
  {
   "cell_type": "code",
   "execution_count": 16,
   "id": "7463a077",
   "metadata": {},
   "outputs": [
    {
     "name": "stdout",
     "output_type": "stream",
     "text": [
      "Input Word : Naver\n",
      "r\n",
      "['N', 'a', 'v', 'e']\n",
      "e\n",
      "['N', 'a', 'v']\n",
      "v\n",
      "['N', 'a']\n",
      "a\n",
      "['N']\n",
      "N\n",
      "[]\n"
     ]
    }
   ],
   "source": [
    "# 스택을 활용해서 입력된 글자를 거꾸로 출력하기\n",
    "word = input('Input Word : ')\n",
    "word_list = list(word)\n",
    "for _ in range(len(word_list)):\n",
    "    print(word_list.pop()) # 하나씩 빼면서 출력\n",
    "    print(word_list)"
   ]
  },
  {
   "cell_type": "markdown",
   "id": "a1299a99",
   "metadata": {},
   "source": [
    "# Queue"
   ]
  },
  {
   "cell_type": "code",
   "execution_count": 17,
   "id": "00f17065",
   "metadata": {},
   "outputs": [],
   "source": [
    "a = [1,2,3,4,5]\n",
    "a.append(10)\n",
    "a.append(20)"
   ]
  },
  {
   "cell_type": "code",
   "execution_count": 18,
   "id": "77778df8",
   "metadata": {},
   "outputs": [
    {
     "data": {
      "text/plain": [
       "[1, 2, 3, 4, 5, 10, 20]"
      ]
     },
     "execution_count": 18,
     "metadata": {},
     "output_type": "execute_result"
    }
   ],
   "source": [
    "a"
   ]
  },
  {
   "cell_type": "code",
   "execution_count": 19,
   "id": "3f6c6553",
   "metadata": {},
   "outputs": [
    {
     "data": {
      "text/plain": [
       "[2, 3, 4, 5, 10, 20]"
      ]
     },
     "execution_count": 19,
     "metadata": {},
     "output_type": "execute_result"
    }
   ],
   "source": [
    "frist = a.pop(0)\n",
    "a"
   ]
  },
  {
   "cell_type": "code",
   "execution_count": 20,
   "id": "8dc1fb87",
   "metadata": {},
   "outputs": [
    {
     "data": {
      "text/plain": [
       "1"
      ]
     },
     "execution_count": 20,
     "metadata": {},
     "output_type": "execute_result"
    }
   ],
   "source": [
    "frist"
   ]
  },
  {
   "cell_type": "markdown",
   "id": "437f021f",
   "metadata": {},
   "source": [
    "# Tuple"
   ]
  },
  {
   "cell_type": "code",
   "execution_count": 22,
   "id": "e5e7bc04",
   "metadata": {},
   "outputs": [
    {
     "name": "stdout",
     "output_type": "stream",
     "text": [
      "t+t = (1, 2, 3, 1, 2, 3) // t*2 = (1, 2, 3, 1, 2, 3)\n"
     ]
    }
   ],
   "source": [
    "t = (1,2,3)\n",
    "print(f't+t = {t+t} // t*2 = {t*2}') # 연산은 가능\n",
    "\n"
   ]
  },
  {
   "cell_type": "code",
   "execution_count": 23,
   "id": "41cdb522",
   "metadata": {},
   "outputs": [
    {
     "data": {
      "text/plain": [
       "3"
      ]
     },
     "execution_count": 23,
     "metadata": {},
     "output_type": "execute_result"
    }
   ],
   "source": [
    "len(t)"
   ]
  },
  {
   "cell_type": "code",
   "execution_count": 24,
   "id": "f4802524",
   "metadata": {},
   "outputs": [
    {
     "data": {
      "text/plain": [
       "tuple"
      ]
     },
     "execution_count": 24,
     "metadata": {},
     "output_type": "execute_result"
    }
   ],
   "source": [
    "type(t)"
   ]
  },
  {
   "cell_type": "code",
   "execution_count": 25,
   "id": "1874e2e8",
   "metadata": {},
   "outputs": [
    {
     "ename": "TypeError",
     "evalue": "'tuple' object does not support item assignment",
     "output_type": "error",
     "traceback": [
      "\u001b[1;31m---------------------------------------------------------------------------\u001b[0m",
      "\u001b[1;31mTypeError\u001b[0m                                 Traceback (most recent call last)",
      "\u001b[1;32m~\\AppData\\Local\\Temp/ipykernel_6212/4226112467.py\u001b[0m in \u001b[0;36m<module>\u001b[1;34m\u001b[0m\n\u001b[1;32m----> 1\u001b[1;33m \u001b[0mt\u001b[0m\u001b[1;33m[\u001b[0m\u001b[1;36m1\u001b[0m\u001b[1;33m]\u001b[0m \u001b[1;33m=\u001b[0m \u001b[1;36m5\u001b[0m\u001b[1;33m\u001b[0m\u001b[1;33m\u001b[0m\u001b[0m\n\u001b[0m",
      "\u001b[1;31mTypeError\u001b[0m: 'tuple' object does not support item assignment"
     ]
    }
   ],
   "source": [
    "t[1] = 5"
   ]
  },
  {
   "cell_type": "code",
   "execution_count": 26,
   "id": "e6ee98a6",
   "metadata": {},
   "outputs": [
    {
     "data": {
      "text/plain": [
       "int"
      ]
     },
     "execution_count": 26,
     "metadata": {},
     "output_type": "execute_result"
    }
   ],
   "source": [
    "t = (1)\n",
    "type(t)"
   ]
  },
  {
   "cell_type": "code",
   "execution_count": 27,
   "id": "ed631c35",
   "metadata": {},
   "outputs": [
    {
     "data": {
      "text/plain": [
       "tuple"
      ]
     },
     "execution_count": 27,
     "metadata": {},
     "output_type": "execute_result"
    }
   ],
   "source": [
    "t = (1,)\n",
    "type(t)"
   ]
  },
  {
   "cell_type": "code",
   "execution_count": 28,
   "id": "4daee8ff",
   "metadata": {},
   "outputs": [
    {
     "data": {
      "text/plain": [
       "(1,)"
      ]
     },
     "execution_count": 28,
     "metadata": {},
     "output_type": "execute_result"
    }
   ],
   "source": [
    "t"
   ]
  },
  {
   "cell_type": "markdown",
   "id": "976a0793",
   "metadata": {},
   "source": [
    "# Set"
   ]
  },
  {
   "cell_type": "code",
   "execution_count": 32,
   "id": "e1ad8a0c",
   "metadata": {},
   "outputs": [
    {
     "data": {
      "text/plain": [
       "set"
      ]
     },
     "execution_count": 32,
     "metadata": {},
     "output_type": "execute_result"
    }
   ],
   "source": [
    "s = set([1,2,3,1,2,3])\n",
    "type(s)"
   ]
  },
  {
   "cell_type": "code",
   "execution_count": 33,
   "id": "302f66fc",
   "metadata": {},
   "outputs": [
    {
     "data": {
      "text/plain": [
       "{1, 2, 3}"
      ]
     },
     "execution_count": 33,
     "metadata": {},
     "output_type": "execute_result"
    }
   ],
   "source": [
    "s.add(1)\n",
    "s"
   ]
  },
  {
   "cell_type": "code",
   "execution_count": 34,
   "id": "3fdf2eed",
   "metadata": {},
   "outputs": [
    {
     "data": {
      "text/plain": [
       "{2, 3}"
      ]
     },
     "execution_count": 34,
     "metadata": {},
     "output_type": "execute_result"
    }
   ],
   "source": [
    "s.remove(1)\n",
    "s"
   ]
  },
  {
   "cell_type": "code",
   "execution_count": 35,
   "id": "5353bfcd",
   "metadata": {},
   "outputs": [
    {
     "data": {
      "text/plain": [
       "{1, 2, 3, 4, 5, 6, 7}"
      ]
     },
     "execution_count": 35,
     "metadata": {},
     "output_type": "execute_result"
    }
   ],
   "source": [
    "s.update([1,4,5,6,7])\n",
    "s"
   ]
  },
  {
   "cell_type": "code",
   "execution_count": 36,
   "id": "dfd7cf9b",
   "metadata": {},
   "outputs": [
    {
     "data": {
      "text/plain": [
       "{1, 2, 4, 5, 6, 7}"
      ]
     },
     "execution_count": 36,
     "metadata": {},
     "output_type": "execute_result"
    }
   ],
   "source": [
    "s.discard(3)\n",
    "s"
   ]
  },
  {
   "cell_type": "code",
   "execution_count": 37,
   "id": "b4a84bda",
   "metadata": {},
   "outputs": [],
   "source": [
    "s.clear()"
   ]
  },
  {
   "cell_type": "code",
   "execution_count": 38,
   "id": "94fb522e",
   "metadata": {},
   "outputs": [
    {
     "data": {
      "text/plain": [
       "set()"
      ]
     },
     "execution_count": 38,
     "metadata": {},
     "output_type": "execute_result"
    }
   ],
   "source": [
    "s"
   ]
  },
  {
   "cell_type": "code",
   "execution_count": 39,
   "id": "cbf4e7b1",
   "metadata": {},
   "outputs": [
    {
     "data": {
      "text/plain": [
       "(set, set)"
      ]
     },
     "execution_count": 39,
     "metadata": {},
     "output_type": "execute_result"
    }
   ],
   "source": [
    "s1 = set([1,2,3,4,5])\n",
    "s2 = set([3,4,5,6,7])\n",
    "type(s1), type(s2)\n"
   ]
  },
  {
   "cell_type": "code",
   "execution_count": 40,
   "id": "f87f4b1a",
   "metadata": {},
   "outputs": [
    {
     "data": {
      "text/plain": [
       "{1, 2, 3, 4, 5, 6, 7}"
      ]
     },
     "execution_count": 40,
     "metadata": {},
     "output_type": "execute_result"
    }
   ],
   "source": [
    "s1.union(s2)"
   ]
  },
  {
   "cell_type": "code",
   "execution_count": 41,
   "id": "83ef8070",
   "metadata": {},
   "outputs": [
    {
     "data": {
      "text/plain": [
       "{1, 2, 3, 4, 5, 6, 7}"
      ]
     },
     "execution_count": 41,
     "metadata": {},
     "output_type": "execute_result"
    }
   ],
   "source": [
    "s1 | s2"
   ]
  },
  {
   "cell_type": "code",
   "execution_count": 42,
   "id": "fa16c570",
   "metadata": {},
   "outputs": [
    {
     "data": {
      "text/plain": [
       "{3, 4, 5}"
      ]
     },
     "execution_count": 42,
     "metadata": {},
     "output_type": "execute_result"
    }
   ],
   "source": [
    "s1.intersection(s2)"
   ]
  },
  {
   "cell_type": "code",
   "execution_count": 43,
   "id": "daa4046a",
   "metadata": {},
   "outputs": [
    {
     "data": {
      "text/plain": [
       "{3, 4, 5}"
      ]
     },
     "execution_count": 43,
     "metadata": {},
     "output_type": "execute_result"
    }
   ],
   "source": [
    "s1 & s2"
   ]
  },
  {
   "cell_type": "code",
   "execution_count": 44,
   "id": "7b656ec8",
   "metadata": {},
   "outputs": [
    {
     "data": {
      "text/plain": [
       "{1, 2}"
      ]
     },
     "execution_count": 44,
     "metadata": {},
     "output_type": "execute_result"
    }
   ],
   "source": [
    "s1.difference(s2)\n"
   ]
  },
  {
   "cell_type": "code",
   "execution_count": 45,
   "id": "36bd740c",
   "metadata": {},
   "outputs": [
    {
     "data": {
      "text/plain": [
       "{1, 2}"
      ]
     },
     "execution_count": 45,
     "metadata": {},
     "output_type": "execute_result"
    }
   ],
   "source": [
    "s1 - s2"
   ]
  },
  {
   "cell_type": "markdown",
   "id": "5a467800",
   "metadata": {},
   "source": [
    "# Dictionary"
   ]
  },
  {
   "cell_type": "code",
   "execution_count": 46,
   "id": "2c3d0302",
   "metadata": {},
   "outputs": [
    {
     "data": {
      "text/plain": [
       "{'America': 1, 'Korea': 82, 'China': 86, 'Japan': 81}"
      ]
     },
     "execution_count": 46,
     "metadata": {},
     "output_type": "execute_result"
    }
   ],
   "source": [
    "country_code = {} # country_code = dict() 도 가능\n",
    "country_code = {'America' : 1, 'Korea' : 82, 'China' : 86, 'Japan' : 81}\n",
    "country_code"
   ]
  },
  {
   "cell_type": "code",
   "execution_count": 47,
   "id": "33651408",
   "metadata": {},
   "outputs": [
    {
     "data": {
      "text/plain": [
       "dict_items([('America', 1), ('Korea', 82), ('China', 86), ('Japan', 81)])"
      ]
     },
     "execution_count": 47,
     "metadata": {},
     "output_type": "execute_result"
    }
   ],
   "source": [
    "country_code.items() # Dict 데이터 출력"
   ]
  },
  {
   "cell_type": "code",
   "execution_count": 48,
   "id": "d1efab72",
   "metadata": {},
   "outputs": [
    {
     "name": "stdout",
     "output_type": "stream",
     "text": [
      "('America', 1)\n",
      "<class 'tuple'>\n",
      "('Korea', 82)\n",
      "<class 'tuple'>\n",
      "('China', 86)\n",
      "<class 'tuple'>\n",
      "('Japan', 81)\n",
      "<class 'tuple'>\n"
     ]
    }
   ],
   "source": [
    "for dict_items in country_code.items():\n",
    "    print(dict_items)\n",
    "    print(type(dict_items)) # tuple로 반환 즉, reading만 가능"
   ]
  },
  {
   "cell_type": "code",
   "execution_count": 49,
   "id": "df3b0ad1",
   "metadata": {},
   "outputs": [
    {
     "data": {
      "text/plain": [
       "dict_keys(['America', 'Korea', 'China', 'Japan'])"
      ]
     },
     "execution_count": 49,
     "metadata": {},
     "output_type": "execute_result"
    }
   ],
   "source": [
    "country_code.keys() # Dict의 Key값만 출력"
   ]
  },
  {
   "cell_type": "code",
   "execution_count": 50,
   "id": "05aa0931",
   "metadata": {},
   "outputs": [
    {
     "data": {
      "text/plain": [
       "{'America': 1, 'Korea': 82, 'China': 86, 'Japan': 81, 'German': 49}"
      ]
     },
     "execution_count": 50,
     "metadata": {},
     "output_type": "execute_result"
    }
   ],
   "source": [
    "country_code['German'] = 49 # Dict에 data 추가\n",
    "country_code"
   ]
  },
  {
   "cell_type": "code",
   "execution_count": 51,
   "id": "b44da656",
   "metadata": {},
   "outputs": [],
   "source": [
    "country_code['German'] = 55 # Dict에 data 변경"
   ]
  },
  {
   "cell_type": "code",
   "execution_count": 52,
   "id": "4571abe4",
   "metadata": {},
   "outputs": [
    {
     "data": {
      "text/plain": [
       "{'America': 1, 'Korea': 82, 'China': 86, 'Japan': 81, 'German': 55}"
      ]
     },
     "execution_count": 52,
     "metadata": {},
     "output_type": "execute_result"
    }
   ],
   "source": [
    "country_code"
   ]
  },
  {
   "cell_type": "code",
   "execution_count": 53,
   "id": "515c6e20",
   "metadata": {},
   "outputs": [
    {
     "data": {
      "text/plain": [
       "dict_values([1, 82, 86, 81, 55])"
      ]
     },
     "execution_count": 53,
     "metadata": {},
     "output_type": "execute_result"
    }
   ],
   "source": [
    "country_code.values()"
   ]
  },
  {
   "cell_type": "code",
   "execution_count": 55,
   "id": "26b3b751",
   "metadata": {},
   "outputs": [
    {
     "name": "stdout",
     "output_type": "stream",
     "text": [
      "Key : America\n",
      "Value : 1\n",
      "Key : Korea\n",
      "Value : 82\n",
      "Key : China\n",
      "Value : 86\n",
      "Key : Japan\n",
      "Value : 81\n",
      "Key : German\n",
      "Value : 55\n"
     ]
    }
   ],
   "source": [
    "for k, v in country_code.items(): # unpacking이 이러남\n",
    "    print(f'Key : {k}')\n",
    "    print(f'Value : {v}')"
   ]
  },
  {
   "cell_type": "code",
   "execution_count": 56,
   "id": "9b45fa19",
   "metadata": {},
   "outputs": [
    {
     "data": {
      "text/plain": [
       "True"
      ]
     },
     "execution_count": 56,
     "metadata": {},
     "output_type": "execute_result"
    }
   ],
   "source": [
    "\"Korea\" in country_code.keys() # Key값에 'Korea'가 있는지 확인"
   ]
  },
  {
   "cell_type": "code",
   "execution_count": 57,
   "id": "6f47fdec",
   "metadata": {},
   "outputs": [
    {
     "data": {
      "text/plain": [
       "True"
      ]
     },
     "execution_count": 57,
     "metadata": {},
     "output_type": "execute_result"
    }
   ],
   "source": [
    "82 in country_code.values() # Value값에 82가 있는지 확인"
   ]
  },
  {
   "cell_type": "markdown",
   "id": "32231b92",
   "metadata": {},
   "source": [
    "# Collections"
   ]
  },
  {
   "cell_type": "markdown",
   "id": "b76f7472",
   "metadata": {},
   "source": [
    "### Deque"
   ]
  },
  {
   "cell_type": "code",
   "execution_count": 58,
   "id": "760fbf40",
   "metadata": {},
   "outputs": [],
   "source": [
    "from collections import deque"
   ]
  },
  {
   "cell_type": "code",
   "execution_count": 61,
   "id": "6a0ec898",
   "metadata": {},
   "outputs": [
    {
     "data": {
      "text/plain": [
       "deque([10, 0, 1, 2, 3, 4])"
      ]
     },
     "execution_count": 61,
     "metadata": {},
     "output_type": "execute_result"
    }
   ],
   "source": [
    "deque_list = deque()\n",
    "for i in range(5):\n",
    "    deque_list.append(i)\n",
    "deque_list.appendleft(10)\n",
    "deque_list\n",
    "    "
   ]
  },
  {
   "cell_type": "code",
   "execution_count": 65,
   "id": "4410676b",
   "metadata": {},
   "outputs": [
    {
     "data": {
      "text/plain": [
       "deque([0, 1, 2, 3, 4, 10])"
      ]
     },
     "execution_count": 65,
     "metadata": {},
     "output_type": "execute_result"
    }
   ],
   "source": [
    "deque_list.rotate(1)\n",
    "deque_list"
   ]
  },
  {
   "cell_type": "code",
   "execution_count": 66,
   "id": "fcef7a9b",
   "metadata": {},
   "outputs": [
    {
     "data": {
      "text/plain": [
       "deque([0, 1, 2, 3, 4, 10, 5, 6, 7])"
      ]
     },
     "execution_count": 66,
     "metadata": {},
     "output_type": "execute_result"
    }
   ],
   "source": [
    "deque_list.extend([5,6,7])\n",
    "deque_list"
   ]
  },
  {
   "cell_type": "code",
   "execution_count": 67,
   "id": "973b787f",
   "metadata": {},
   "outputs": [],
   "source": [
    "deque_list.extendleft([8,9])"
   ]
  },
  {
   "cell_type": "code",
   "execution_count": 68,
   "id": "f9c9cd43",
   "metadata": {},
   "outputs": [
    {
     "data": {
      "text/plain": [
       "deque([9, 8, 0, 1, 2, 3, 4, 10, 5, 6, 7])"
      ]
     },
     "execution_count": 68,
     "metadata": {},
     "output_type": "execute_result"
    }
   ],
   "source": [
    "deque_list"
   ]
  },
  {
   "cell_type": "code",
   "execution_count": 72,
   "id": "05b992c7",
   "metadata": {},
   "outputs": [],
   "source": [
    "def function():\n",
    "    g_l = []\n",
    "    for i in range(100):\n",
    "        for i in range(100):\n",
    "            g_l.append(i)\n",
    "            g_l.pop()\n",
    "            "
   ]
  },
  {
   "cell_type": "code",
   "execution_count": 73,
   "id": "7f3bf1c9",
   "metadata": {},
   "outputs": [
    {
     "name": "stdout",
     "output_type": "stream",
     "text": [
      "2.88 ms ± 108 µs per loop (mean ± std. dev. of 7 runs, 100 loops each)\n"
     ]
    }
   ],
   "source": [
    "%timeit function() # 여러 번을 돌려보고 평균시간 return"
   ]
  },
  {
   "cell_type": "markdown",
   "id": "14a746ad",
   "metadata": {},
   "source": [
    "### OrderedDict"
   ]
  },
  {
   "cell_type": "code",
   "execution_count": 74,
   "id": "7173eb69",
   "metadata": {},
   "outputs": [],
   "source": [
    "# 지금은 상관없다.\n"
   ]
  },
  {
   "cell_type": "markdown",
   "id": "16d0c958",
   "metadata": {},
   "source": [
    "### DefaultDict"
   ]
  },
  {
   "cell_type": "code",
   "execution_count": 75,
   "id": "b033a688",
   "metadata": {},
   "outputs": [
    {
     "ename": "KeyError",
     "evalue": "'first'",
     "output_type": "error",
     "traceback": [
      "\u001b[1;31m---------------------------------------------------------------------------\u001b[0m",
      "\u001b[1;31mKeyError\u001b[0m                                  Traceback (most recent call last)",
      "\u001b[1;32m~\\AppData\\Local\\Temp/ipykernel_6212/3753088446.py\u001b[0m in \u001b[0;36m<module>\u001b[1;34m\u001b[0m\n\u001b[0;32m      1\u001b[0m \u001b[0md\u001b[0m \u001b[1;33m=\u001b[0m \u001b[0mdict\u001b[0m\u001b[1;33m(\u001b[0m\u001b[1;33m)\u001b[0m\u001b[1;33m\u001b[0m\u001b[1;33m\u001b[0m\u001b[0m\n\u001b[1;32m----> 2\u001b[1;33m \u001b[0mprint\u001b[0m\u001b[1;33m(\u001b[0m\u001b[0md\u001b[0m\u001b[1;33m[\u001b[0m\u001b[1;34m'first'\u001b[0m\u001b[1;33m]\u001b[0m\u001b[1;33m)\u001b[0m\u001b[1;33m\u001b[0m\u001b[1;33m\u001b[0m\u001b[0m\n\u001b[0m",
      "\u001b[1;31mKeyError\u001b[0m: 'first'"
     ]
    }
   ],
   "source": [
    "d = dict()\n",
    "print(d['first'])"
   ]
  },
  {
   "cell_type": "code",
   "execution_count": 76,
   "id": "27e68bbf",
   "metadata": {},
   "outputs": [
    {
     "name": "stdout",
     "output_type": "stream",
     "text": [
      "0\n"
     ]
    }
   ],
   "source": [
    "from collections import defaultdict\n",
    "d = defaultdict(object)\n",
    "d = defaultdict(lambda : 0) # 함수형태로 넣어줘야 한다.\n",
    "print(d['first'])"
   ]
  },
  {
   "cell_type": "code",
   "execution_count": 77,
   "id": "e8ba2847",
   "metadata": {},
   "outputs": [
    {
     "data": {
      "text/plain": [
       "0"
      ]
     },
     "execution_count": 77,
     "metadata": {},
     "output_type": "execute_result"
    }
   ],
   "source": [
    "d['second']"
   ]
  },
  {
   "cell_type": "code",
   "execution_count": 78,
   "id": "39f6230e",
   "metadata": {},
   "outputs": [],
   "source": [
    "text = '''All samples shall be properly labeled in order to ensure that the results can be traced back to the location from which it was collected All samples shall be properly labeled in order to ensure that the results can be traced back to the location from which it was collected'''"
   ]
  },
  {
   "cell_type": "code",
   "execution_count": 80,
   "id": "33f6f0e5",
   "metadata": {},
   "outputs": [],
   "source": [
    "from collections import defaultdict\n",
    "d = defaultdict(lambda : 0)"
   ]
  },
  {
   "cell_type": "code",
   "execution_count": 81,
   "id": "89f6d74d",
   "metadata": {},
   "outputs": [
    {
     "name": "stdout",
     "output_type": "stream",
     "text": [
      "All\n",
      "samples\n",
      "shall\n",
      "be\n",
      "properly\n",
      "labeled\n",
      "in\n",
      "order\n",
      "to\n",
      "ensure\n",
      "that\n",
      "the\n",
      "results\n",
      "can\n",
      "be\n",
      "traced\n",
      "back\n",
      "to\n",
      "the\n",
      "location\n",
      "from\n",
      "which\n",
      "it\n",
      "was\n",
      "collected\n",
      "All\n",
      "samples\n",
      "shall\n",
      "be\n",
      "properly\n",
      "labeled\n",
      "in\n",
      "order\n",
      "to\n",
      "ensure\n",
      "that\n",
      "the\n",
      "results\n",
      "can\n",
      "be\n",
      "traced\n",
      "back\n",
      "to\n",
      "the\n",
      "location\n",
      "from\n",
      "which\n",
      "it\n",
      "was\n",
      "collected\n"
     ]
    },
    {
     "data": {
      "text/plain": [
       "defaultdict(<function __main__.<lambda>()>,\n",
       "            {'All': 2,\n",
       "             'samples': 2,\n",
       "             'shall': 2,\n",
       "             'be': 4,\n",
       "             'properly': 2,\n",
       "             'labeled': 2,\n",
       "             'in': 2,\n",
       "             'order': 2,\n",
       "             'to': 4,\n",
       "             'ensure': 2,\n",
       "             'that': 2,\n",
       "             'the': 4,\n",
       "             'results': 2,\n",
       "             'can': 2,\n",
       "             'traced': 2,\n",
       "             'back': 2,\n",
       "             'location': 2,\n",
       "             'from': 2,\n",
       "             'which': 2,\n",
       "             'it': 2,\n",
       "             'was': 2,\n",
       "             'collected': 2})"
      ]
     },
     "execution_count": 81,
     "metadata": {},
     "output_type": "execute_result"
    }
   ],
   "source": [
    "for word in text.split():\n",
    "    print(word)\n",
    "    d[word] += 1\n",
    "\n",
    "d"
   ]
  },
  {
   "cell_type": "markdown",
   "id": "5730d749",
   "metadata": {},
   "source": [
    "### Counter"
   ]
  },
  {
   "cell_type": "code",
   "execution_count": 82,
   "id": "19e7922c",
   "metadata": {},
   "outputs": [
    {
     "name": "stdout",
     "output_type": "stream",
     "text": [
      "Counter({'a': 3, 'l': 2, 'g': 1, 'h': 1, 'd': 1})\n"
     ]
    }
   ],
   "source": [
    "from collections import Counter\n",
    "c = Counter()  \n",
    "c = Counter('gallahad')\n",
    "print(c)"
   ]
  },
  {
   "cell_type": "code",
   "execution_count": 83,
   "id": "87a4bbb3",
   "metadata": {},
   "outputs": [],
   "source": [
    "from collections import Counter\n",
    "\n",
    "list_ = ['b','s','s','s','s','s','b','b']"
   ]
  },
  {
   "cell_type": "code",
   "execution_count": 84,
   "id": "1441da0a",
   "metadata": {},
   "outputs": [
    {
     "data": {
      "text/plain": [
       "Counter({'b': 3, 's': 5})"
      ]
     },
     "execution_count": 84,
     "metadata": {},
     "output_type": "execute_result"
    }
   ],
   "source": [
    "c = Counter(list_)\n",
    "c"
   ]
  },
  {
   "cell_type": "code",
   "execution_count": 85,
   "id": "b5b1f696",
   "metadata": {},
   "outputs": [
    {
     "name": "stdout",
     "output_type": "stream",
     "text": [
      "['red', 'red', 'red', 'blue', 'blue', 'blue', 'blue']\n"
     ]
    }
   ],
   "source": [
    "c = Counter({'red': 3, 'blue' : 4})\n",
    "print(list(c.elements()))"
   ]
  },
  {
   "cell_type": "code",
   "execution_count": 88,
   "id": "a8296ec9",
   "metadata": {},
   "outputs": [
    {
     "name": "stdout",
     "output_type": "stream",
     "text": [
      "Counter({'a': 5, 'b': 4, 'c': 3, 'd': 2})\n",
      "Counter({'b': 2, 'a': 1})\n",
      "Counter({'a': 4, 'd': 4, 'c': 3, 'b': 2})\n"
     ]
    }
   ],
   "source": [
    "c = Counter(a=4,b=2,c=0,d=-2)\n",
    "d = Counter(a=1,b=2,c=3,d=4)\n",
    "# c.subtract(d) # c = c - d\n",
    "# print(c)\n",
    "print(c + d)\n",
    "print(c & d)\n",
    "print(c | d)"
   ]
  },
  {
   "cell_type": "markdown",
   "id": "6264e0f5",
   "metadata": {},
   "source": [
    "### namedtuple"
   ]
  },
  {
   "cell_type": "code",
   "execution_count": 89,
   "id": "2e4d3eb9",
   "metadata": {},
   "outputs": [
    {
     "name": "stdout",
     "output_type": "stream",
     "text": [
      "33\n"
     ]
    }
   ],
   "source": [
    "from collections import namedtuple\n",
    "Point = namedtuple('Point',['x','y']) # 선언\n",
    "p = Point(11,y=22)\n",
    "print(p[0] + p[1])"
   ]
  },
  {
   "cell_type": "code",
   "execution_count": 90,
   "id": "4844cd2b",
   "metadata": {},
   "outputs": [
    {
     "data": {
      "text/plain": [
       "__main__.Point"
      ]
     },
     "execution_count": 90,
     "metadata": {},
     "output_type": "execute_result"
    }
   ],
   "source": [
    "Point"
   ]
  },
  {
   "cell_type": "code",
   "execution_count": 91,
   "id": "ac655e95",
   "metadata": {},
   "outputs": [
    {
     "data": {
      "text/plain": [
       "(11, 22)"
      ]
     },
     "execution_count": 91,
     "metadata": {},
     "output_type": "execute_result"
    }
   ],
   "source": [
    "p = Point(x=11,y=22)\n",
    "p[0],p[1]"
   ]
  },
  {
   "cell_type": "code",
   "execution_count": 92,
   "id": "cb1f3d74",
   "metadata": {},
   "outputs": [
    {
     "name": "stdout",
     "output_type": "stream",
     "text": [
      "11 22\n"
     ]
    }
   ],
   "source": [
    "x,y = p\n",
    "print(x,y)"
   ]
  },
  {
   "cell_type": "code",
   "execution_count": 93,
   "id": "60d94b8f",
   "metadata": {},
   "outputs": [
    {
     "name": "stdout",
     "output_type": "stream",
     "text": [
      "33\n"
     ]
    }
   ],
   "source": [
    "print(p.x + p.y)"
   ]
  },
  {
   "cell_type": "code",
   "execution_count": null,
   "id": "4e0e9bce",
   "metadata": {},
   "outputs": [],
   "source": []
  }
 ],
 "metadata": {
  "kernelspec": {
   "display_name": "Python 3 (ipykernel)",
   "language": "python",
   "name": "python3"
  },
  "language_info": {
   "codemirror_mode": {
    "name": "ipython",
    "version": 3
   },
   "file_extension": ".py",
   "mimetype": "text/x-python",
   "name": "python",
   "nbconvert_exporter": "python",
   "pygments_lexer": "ipython3",
   "version": "3.9.7"
  }
 },
 "nbformat": 4,
 "nbformat_minor": 5
}
